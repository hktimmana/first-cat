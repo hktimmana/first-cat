{
  "nbformat": 4,
  "nbformat_minor": 0,
  "metadata": {
    "colab": {
      "name": "Experiment1.ipynb",
      "provenance": [],
      "collapsed_sections": [],
      "authorship_tag": "ABX9TyPtLHaYMJp4pIkdk7iczd4S",
      "include_colab_link": true
    },
    "kernelspec": {
      "name": "python3",
      "display_name": "Python 3"
    },
    "accelerator": "TPU"
  },
  "cells": [
    {
      "cell_type": "markdown",
      "metadata": {
        "id": "view-in-github",
        "colab_type": "text"
      },
      "source": [
        "<a href=\"https://colab.research.google.com/github/hktimmana/first-cat/blob/master/Experiment1.ipynb\" target=\"_parent\"><img src=\"https://colab.research.google.com/assets/colab-badge.svg\" alt=\"Open In Colab\"/></a>"
      ]
    },
    {
      "cell_type": "code",
      "metadata": {
        "id": "2IwupjFVD7VH",
        "colab_type": "code",
        "colab": {
          "base_uri": "https://localhost:8080/",
          "height": 122
        },
        "outputId": "e4750901-8a3b-4c5d-82f1-57e62a0c065a"
      },
      "source": [
        "from google.colab import drive\n",
        "drive.mount('/content/gdrive')"
      ],
      "execution_count": null,
      "outputs": [
        {
          "output_type": "stream",
          "text": [
            "Go to this URL in a browser: https://accounts.google.com/o/oauth2/auth?client_id=947318989803-6bn6qk8qdgf4n4g3pfee6491hc0brc4i.apps.googleusercontent.com&redirect_uri=urn%3aietf%3awg%3aoauth%3a2.0%3aoob&response_type=code&scope=email%20https%3a%2f%2fwww.googleapis.com%2fauth%2fdocs.test%20https%3a%2f%2fwww.googleapis.com%2fauth%2fdrive%20https%3a%2f%2fwww.googleapis.com%2fauth%2fdrive.photos.readonly%20https%3a%2f%2fwww.googleapis.com%2fauth%2fpeopleapi.readonly\n",
            "\n",
            "Enter your authorization code:\n",
            "··········\n",
            "Mounted at /content/gdrive\n"
          ],
          "name": "stdout"
        }
      ]
    },
    {
      "cell_type": "code",
      "metadata": {
        "id": "591H5uDFFJWJ",
        "colab_type": "code",
        "colab": {
          "base_uri": "https://localhost:8080/",
          "height": 34
        },
        "outputId": "a1f7809a-90ba-46b8-a8a3-abe7ea9dbd45"
      },
      "source": [
        "import glob\n",
        "import numpy as np\n",
        "import matplotlib.pyplot as plt\n",
        "from keras.preprocessing.image import ImageDataGenerator, load_img, img_to_array, array_to_img\n",
        "%matplotlib inline"
      ],
      "execution_count": null,
      "outputs": [
        {
          "output_type": "stream",
          "text": [
            "Using TensorFlow backend.\n"
          ],
          "name": "stderr"
        }
      ]
    },
    {
      "cell_type": "code",
      "metadata": {
        "id": "T2O4-q5PGnFw",
        "colab_type": "code",
        "colab": {}
      },
      "source": [
        "bc_path='/content/gdrive/My Drive/research/binary/40X/**/**/*.png'\n",
        "model_path='/content/gdrive/My Drive/research/model'\n"
      ],
      "execution_count": null,
      "outputs": []
    },
    {
      "cell_type": "code",
      "metadata": {
        "id": "fxRnWcSIFPsH",
        "colab_type": "code",
        "colab": {
          "base_uri": "https://localhost:8080/",
          "height": 34
        },
        "outputId": "b86b4414-ce0d-4c9a-f36c-4c1ec288abcb"
      },
      "source": [
        "IMG_DIM = (224, 224)\n",
        "bc_files = glob.glob(bc_path)\n",
        "bc_data= np.array([img_to_array(load_img(img, target_size=IMG_DIM)) for img in bc_files])\n",
        "bc_labels = [fn.split('/')[-2].strip() for fn in bc_files]\n",
        "print('Train dataset shape:', bc_data.shape)"
      ],
      "execution_count": null,
      "outputs": [
        {
          "output_type": "stream",
          "text": [
            "Train dataset shape: (1995, 224, 224, 3)\n"
          ],
          "name": "stdout"
        }
      ]
    },
    {
      "cell_type": "code",
      "metadata": {
        "id": "736sSUMWH64-",
        "colab_type": "code",
        "colab": {
          "base_uri": "https://localhost:8080/",
          "height": 34
        },
        "outputId": "0b1c1e93-dd40-4d61-c048-78067355154e"
      },
      "source": [
        "import numpy as np\n",
        "nb_classes=len(np.unique(bc_labels))\n",
        "bc_count=len(bc_labels)\n",
        "nb_classes"
      ],
      "execution_count": null,
      "outputs": [
        {
          "output_type": "execute_result",
          "data": {
            "text/plain": [
              "2"
            ]
          },
          "metadata": {
            "tags": []
          },
          "execution_count": 102
        }
      ]
    },
    {
      "cell_type": "code",
      "metadata": {
        "id": "-KbRYWbU1dpK",
        "colab_type": "code",
        "colab": {
          "base_uri": "https://localhost:8080/",
          "height": 296
        },
        "outputId": "d562063c-e8a5-4c60-834f-7a5b21a6729a"
      },
      "source": [
        "import pandas as pd\n",
        "bdf = pd.DataFrame()\n",
        "#df['images']  = train_imgs\n",
        "bdf['labels']  =bc_labels\n",
        "import seaborn as sns\n",
        "sns.countplot(\"labels\",data= bdf)"
      ],
      "execution_count": null,
      "outputs": [
        {
          "output_type": "execute_result",
          "data": {
            "text/plain": [
              "<matplotlib.axes._subplots.AxesSubplot at 0x7f75c7877860>"
            ]
          },
          "metadata": {
            "tags": []
          },
          "execution_count": 103
        },
        {
          "output_type": "display_data",
          "data": {
            "image/png": "[encoded data removed]",
            "text/plain": [
              "<Figure size 432x288 with 1 Axes>"
            ]
          },
          "metadata": {
            "tags": [],
            "needs_background": "light"
          }
        }
      ]
    },
    {
      "cell_type": "code",
      "metadata": {
        "id": "JJDpl2Rc1gCt",
        "colab_type": "code",
        "colab": {
          "base_uri": "https://localhost:8080/",
          "height": 34
        },
        "outputId": "d84ac091-6e27-4121-eba1-9fcc05a22f37"
      },
      "source": [
        "from sklearn.utils import class_weight\n",
        "from sklearn.model_selection import train_test_split\n",
        "from sklearn.metrics import accuracy_score\n",
        "bc_weights = class_weight.compute_class_weight('balanced',\n",
        "                                                 np.unique(bc_labels),\n",
        "                                                 bc_labels)\n",
        "bc_weights"
      ],
      "execution_count": null,
      "outputs": [
        {
          "output_type": "execute_result",
          "data": {
            "text/plain": [
              "array([1.596     , 0.72810219])"
            ]
          },
          "metadata": {
            "tags": []
          },
          "execution_count": 104
        }
      ]
    },
    {
      "cell_type": "code",
      "metadata": {
        "id": "n5r-_3Mx18y1",
        "colab_type": "code",
        "colab": {}
      },
      "source": [
        "X_train, X_test, y_train, y_test = train_test_split(bc_data, bc_labels, test_size=0.20, random_state=42)"
      ],
      "execution_count": null,
      "outputs": []
    },
    {
      "cell_type": "code",
      "metadata": {
        "id": "NZ0-49O91koD",
        "colab_type": "code",
        "colab": {}
      },
      "source": [
        "from keras.utils import np_utils\n",
        "from sklearn.preprocessing import LabelEncoder\n",
        "le=LabelEncoder()\n",
        "y_train=le.fit_transform(y_train)\n",
        "y_test=le.fit_transform(y_test)\n",
        "# convert class vectors to binary class matrices\n",
        "#y_train = np_utils.to_categorical(le.fit_transform(y_train), nb_classes)\n",
        "#y_test = np_utils.to_categorical(le.fit_transform(y_test), nb_classes)\n"
      ],
      "execution_count": null,
      "outputs": []
    },
    {
      "cell_type": "code",
      "metadata": {
        "id": "YmhSRdjC4p-v",
        "colab_type": "code",
        "colab": {
          "base_uri": "https://localhost:8080/",
          "height": 204
        },
        "outputId": "141e8440-a5b2-4f4c-aaa5-7580eed74bf1"
      },
      "source": [
        "from keras.preprocessing.image import ImageDataGenerator\n",
        "batchsize=32\n",
        "# create generators  - training data will be augmented images\n",
        "\n",
        "v_generator = ImageDataGenerator(rescale=1./255)\n",
        "t_generator = ImageDataGenerator(rescale=1./255,width_shift_range=0.1,height_shift_range=0.1,rotation_range=15,zoom_range=0.1 )\n",
        "\n",
        "#balgen = BalancedDataGenerator(train_imgs, Y_train,traindatagenerator, batch_size=32)\n",
        "train_generator=t_generator.flow(X_train, y_train, batch_size=batchsize) \n",
        "validation_generator=v_generator.flow(X_test, y_test,batch_size=batchsize)\n",
        "print(y_test)"
      ],
      "execution_count": null,
      "outputs": [
        {
          "output_type": "stream",
          "text": [
            "[1 0 0 0 1 0 1 0 1 1 0 0 1 1 1 1 1 1 0 0 0 1 0 1 0 1 0 0 0 1 0 1 1 0 1 1 1\n",
            " 1 1 0 1 1 1 1 0 0 0 1 0 1 1 0 1 1 0 1 1 1 1 0 1 0 0 1 0 0 1 1 1 1 0 1 1 0\n",
            " 1 0 1 0 1 1 1 0 0 1 0 1 1 0 1 1 1 0 1 1 1 1 1 0 0 1 1 0 0 1 1 0 0 0 0 0 1\n",
            " 1 1 1 1 1 1 1 1 1 1 0 1 1 1 1 0 1 1 1 0 1 1 1 0 1 1 0 0 0 1 1 0 1 1 1 1 1\n",
            " 1 0 0 0 1 1 0 1 0 0 1 1 0 1 0 1 0 1 1 0 1 1 1 0 0 0 1 0 1 0 1 1 1 1 1 1 1\n",
            " 0 0 1 0 0 1 0 1 1 1 1 0 0 1 0 0 0 1 1 0 0 0 1 1 1 1 1 0 1 1 1 1 0 1 1 1 1\n",
            " 1 0 1 1 0 1 1 1 0 1 1 1 1 1 1 1 1 1 1 0 1 1 1 1 1 1 1 1 1 0 1 1 1 0 1 1 1\n",
            " 1 0 0 1 0 1 1 1 1 0 1 1 1 0 0 0 1 0 1 1 1 1 1 0 1 1 1 1 1 0 1 1 0 1 0 1 1\n",
            " 1 0 1 1 1 1 1 1 0 1 0 1 1 1 0 1 0 1 1 1 1 0 0 1 0 1 1 1 1 1 1 1 0 1 0 1 1\n",
            " 0 1 1 0 1 1 1 1 1 1 1 1 1 1 1 0 0 0 1 1 0 1 1 1 1 0 1 1 1 1 0 0 1 0 0 1 1\n",
            " 1 0 1 1 0 1 0 0 1 1 0 1 0 1 1 0 1 1 0 1 1 1 1 1 1 0 0 1 0]\n"
          ],
          "name": "stdout"
        }
      ]
    },
    {
      "cell_type": "code",
      "metadata": {
        "id": "Ot1t72O85YiR",
        "colab_type": "code",
        "colab": {
          "base_uri": "https://localhost:8080/",
          "height": 1000
        },
        "outputId": "1a26fff3-5959-46d3-ef6a-d8528e14d57c"
      },
      "source": [
        "batch_size=32\n",
        "from keras.callbacks import EarlyStopping, ModelCheckpoint, ReduceLROnPlateau\n",
        "early_stopping = EarlyStopping(monitor='accuracy', mode='max', patience=20, verbose=2)\n",
        "model_checkpoint = ModelCheckpoint(model_path+'/vgg16_breakhis_TL_fine.h5', save_best_only=True, verbose=2)\n",
        "history1= model.fit_generator(train_generator, steps_per_epoch=int(train_generator.n/batch_size), \n",
        "                    epochs=50, validation_data=validation_generator, class_weight=bc_weights,\n",
        "                    validation_steps=int(validation_generator.n/batch_size),callbacks=[early_stopping, model_checkpoint])"
      ],
      "execution_count": null,
      "outputs": [
        {
          "output_type": "stream",
          "text": [
            "Epoch 1/50\n",
            "49/49 [==============================] - 53s 1s/step - loss: 0.2714 - accuracy: 0.8830 - val_loss: 0.1068 - val_accuracy: 0.8698\n",
            "\n",
            "Epoch 00001: val_loss improved from inf to 0.10676, saving model to /content/gdrive/My Drive/research/model/vgg16_breakhis_TL_fine.h5\n",
            "Epoch 2/50\n",
            "49/49 [==============================] - 52s 1s/step - loss: 0.2293 - accuracy: 0.9092 - val_loss: 0.2515 - val_accuracy: 0.9128\n",
            "\n",
            "Epoch 00002: val_loss did not improve from 0.10676\n",
            "Epoch 3/50\n",
            "49/49 [==============================] - 52s 1s/step - loss: 0.2097 - accuracy: 0.9118 - val_loss: 0.0497 - val_accuracy: 0.8910\n",
            "\n",
            "Epoch 00003: val_loss improved from 0.10676 to 0.04972, saving model to /content/gdrive/My Drive/research/model/vgg16_breakhis_TL_fine.h5\n",
            "Epoch 4/50\n",
            "49/49 [==============================] - 52s 1s/step - loss: 0.1570 - accuracy: 0.9405 - val_loss: 0.0530 - val_accuracy: 0.9019\n",
            "\n",
            "Epoch 00004: val_loss did not improve from 0.04972\n",
            "Epoch 5/50\n",
            "49/49 [==============================] - 52s 1s/step - loss: 0.1398 - accuracy: 0.9495 - val_loss: 0.3866 - val_accuracy: 0.9155\n",
            "\n",
            "Epoch 00005: val_loss did not improve from 0.04972\n",
            "Epoch 6/50\n",
            "49/49 [==============================] - 52s 1s/step - loss: 0.1385 - accuracy: 0.9469 - val_loss: 0.3743 - val_accuracy: 0.9128\n",
            "\n",
            "Epoch 00006: val_loss did not improve from 0.04972\n",
            "Epoch 7/50\n",
            "49/49 [==============================] - 52s 1s/step - loss: 0.1684 - accuracy: 0.9373 - val_loss: 0.1668 - val_accuracy: 0.9264\n",
            "\n",
            "Epoch 00007: val_loss did not improve from 0.04972\n",
            "Epoch 8/50\n",
            "49/49 [==============================] - 52s 1s/step - loss: 0.1383 - accuracy: 0.9457 - val_loss: 0.7030 - val_accuracy: 0.9019\n",
            "\n",
            "Epoch 00008: val_loss did not improve from 0.04972\n",
            "Epoch 9/50\n",
            "49/49 [==============================] - 51s 1s/step - loss: 0.1066 - accuracy: 0.9591 - val_loss: 0.2774 - val_accuracy: 0.9292\n",
            "\n",
            "Epoch 00009: val_loss did not improve from 0.04972\n",
            "Epoch 10/50\n",
            "49/49 [==============================] - 52s 1s/step - loss: 0.1030 - accuracy: 0.9578 - val_loss: 0.3297 - val_accuracy: 0.9237\n",
            "\n",
            "Epoch 00010: val_loss did not improve from 0.04972\n",
            "Epoch 11/50\n",
            "49/49 [==============================] - 52s 1s/step - loss: 0.0846 - accuracy: 0.9694 - val_loss: 0.1686 - val_accuracy: 0.9373\n",
            "\n",
            "Epoch 00011: val_loss did not improve from 0.04972\n",
            "Epoch 12/50\n",
            "49/49 [==============================] - 52s 1s/step - loss: 0.1299 - accuracy: 0.9532 - val_loss: 0.1117 - val_accuracy: 0.9128\n",
            "\n",
            "Epoch 00012: val_loss did not improve from 0.04972\n",
            "Epoch 13/50\n",
            "49/49 [==============================] - 52s 1s/step - loss: 0.0971 - accuracy: 0.9681 - val_loss: 0.0080 - val_accuracy: 0.9373\n",
            "\n",
            "Epoch 00013: val_loss improved from 0.04972 to 0.00805, saving model to /content/gdrive/My Drive/research/model/vgg16_breakhis_TL_fine.h5\n",
            "Epoch 14/50\n",
            "49/49 [==============================] - 52s 1s/step - loss: 0.0942 - accuracy: 0.9668 - val_loss: 0.3678 - val_accuracy: 0.9167\n",
            "\n",
            "Epoch 00014: val_loss did not improve from 0.00805\n",
            "Epoch 15/50\n",
            "49/49 [==============================] - 52s 1s/step - loss: 0.0765 - accuracy: 0.9751 - val_loss: 0.0170 - val_accuracy: 0.9428\n",
            "\n",
            "Epoch 00015: val_loss did not improve from 0.00805\n",
            "Epoch 16/50\n",
            "49/49 [==============================] - 52s 1s/step - loss: 0.0888 - accuracy: 0.9679 - val_loss: 0.3022 - val_accuracy: 0.9428\n",
            "\n",
            "Epoch 00016: val_loss did not improve from 0.00805\n",
            "Epoch 17/50\n",
            "49/49 [==============================] - 52s 1s/step - loss: 0.0995 - accuracy: 0.9629 - val_loss: 0.0314 - val_accuracy: 0.9319\n",
            "\n",
            "Epoch 00017: val_loss did not improve from 0.00805\n",
            "Epoch 18/50\n",
            "49/49 [==============================] - 52s 1s/step - loss: 0.0491 - accuracy: 0.9827 - val_loss: 8.8220e-04 - val_accuracy: 0.9537\n",
            "\n",
            "Epoch 00018: val_loss improved from 0.00805 to 0.00088, saving model to /content/gdrive/My Drive/research/model/vgg16_breakhis_TL_fine.h5\n",
            "Epoch 19/50\n",
            "49/49 [==============================] - 52s 1s/step - loss: 0.1015 - accuracy: 0.9668 - val_loss: 0.6356 - val_accuracy: 0.9101\n",
            "\n",
            "Epoch 00019: val_loss did not improve from 0.00088\n",
            "Epoch 20/50\n",
            "49/49 [==============================] - 52s 1s/step - loss: 0.0567 - accuracy: 0.9788 - val_loss: 0.3490 - val_accuracy: 0.9210\n",
            "\n",
            "Epoch 00020: val_loss did not improve from 0.00088\n",
            "Epoch 21/50\n",
            "49/49 [==============================] - 52s 1s/step - loss: 0.0289 - accuracy: 0.9879 - val_loss: 0.1602 - val_accuracy: 0.9428\n",
            "\n",
            "Epoch 00021: val_loss did not improve from 0.00088\n",
            "Epoch 22/50\n",
            "49/49 [==============================] - 52s 1s/step - loss: 0.0294 - accuracy: 0.9917 - val_loss: 1.0737 - val_accuracy: 0.9210\n",
            "\n",
            "Epoch 00022: val_loss did not improve from 0.00088\n",
            "Epoch 23/50\n",
            "49/49 [==============================] - 52s 1s/step - loss: 0.0560 - accuracy: 0.9809 - val_loss: 0.1062 - val_accuracy: 0.9428\n",
            "\n",
            "Epoch 00023: val_loss did not improve from 0.00088\n",
            "Epoch 24/50\n",
            "49/49 [==============================] - 52s 1s/step - loss: 0.0417 - accuracy: 0.9853 - val_loss: 0.1182 - val_accuracy: 0.9482\n",
            "\n",
            "Epoch 00024: val_loss did not improve from 0.00088\n",
            "Epoch 25/50\n",
            "49/49 [==============================] - 52s 1s/step - loss: 0.0311 - accuracy: 0.9891 - val_loss: 0.0785 - val_accuracy: 0.9482\n",
            "\n",
            "Epoch 00025: val_loss did not improve from 0.00088\n",
            "Epoch 26/50\n",
            "49/49 [==============================] - 52s 1s/step - loss: 0.0451 - accuracy: 0.9808 - val_loss: 0.1523 - val_accuracy: 0.9346\n",
            "\n",
            "Epoch 00026: val_loss did not improve from 0.00088\n",
            "Epoch 27/50\n",
            "49/49 [==============================] - 52s 1s/step - loss: 0.0394 - accuracy: 0.9834 - val_loss: 0.0083 - val_accuracy: 0.9167\n",
            "\n",
            "Epoch 00027: val_loss did not improve from 0.00088\n",
            "Epoch 28/50\n",
            "49/49 [==============================] - 51s 1s/step - loss: 0.0841 - accuracy: 0.9705 - val_loss: 0.4334 - val_accuracy: 0.9210\n",
            "\n",
            "Epoch 00028: val_loss did not improve from 0.00088\n",
            "Epoch 29/50\n",
            "49/49 [==============================] - 51s 1s/step - loss: 0.0397 - accuracy: 0.9847 - val_loss: 0.3859 - val_accuracy: 0.9482\n",
            "\n",
            "Epoch 00029: val_loss did not improve from 0.00088\n",
            "Epoch 30/50\n",
            "49/49 [==============================] - 52s 1s/step - loss: 0.0184 - accuracy: 0.9923 - val_loss: 0.0204 - val_accuracy: 0.9482\n",
            "\n",
            "Epoch 00030: val_loss did not improve from 0.00088\n",
            "Epoch 31/50\n",
            "49/49 [==============================] - 52s 1s/step - loss: 0.0247 - accuracy: 0.9930 - val_loss: 0.1136 - val_accuracy: 0.9346\n",
            "\n",
            "Epoch 00031: val_loss did not improve from 0.00088\n",
            "Epoch 32/50\n",
            "49/49 [==============================] - 52s 1s/step - loss: 0.0422 - accuracy: 0.9885 - val_loss: 0.0436 - val_accuracy: 0.9292\n",
            "\n",
            "Epoch 00032: val_loss did not improve from 0.00088\n",
            "Epoch 33/50\n",
            "49/49 [==============================] - 52s 1s/step - loss: 0.0218 - accuracy: 0.9930 - val_loss: 0.0683 - val_accuracy: 0.9619\n",
            "\n",
            "Epoch 00033: val_loss did not improve from 0.00088\n",
            "Epoch 34/50\n",
            "14/49 [=======>......................] - ETA: 32s - loss: 0.0125 - accuracy: 0.9933"
          ],
          "name": "stdout"
        }
      ]
    },
    {
      "cell_type": "markdown",
      "metadata": {
        "id": "dIS6uQEhxsDA",
        "colab_type": "text"
      },
      "source": [
        "Experiment with Mandeley dataset"
      ]
    },
    {
      "cell_type": "code",
      "metadata": {
        "id": "B_zeXEszgBaJ",
        "colab_type": "code",
        "colab": {}
      },
      "source": [
        "!ls /content/gdrive/My\\ Drive/research/mendeley/\n"
      ],
      "execution_count": null,
      "outputs": []
    },
    {
      "cell_type": "code",
      "metadata": {
        "id": "N8VBm-XzKaS1",
        "colab_type": "code",
        "colab": {
          "base_uri": "https://localhost:8080/",
          "height": 54
        },
        "outputId": "2b932af5-fc43-45f3-b856-ff9b7110902f"
      },
      "source": [
        "'''\n",
        "%cd /content/gdrive/My\\ Drive/research/\n",
        "!rm  b63daee9-78de-4122-8475-9b3aa22ffd64\n",
        "!wget https://data.mendeley.com/datasets/wmy84gzngw/1/files/b63daee9-78de-4122-8475-9b3aa22ffd64/us-dataset.zip\n",
        "!unzip us-dataset.zip\n",
        "#Convert bmp to png\n",
        "from PIL import Image\n",
        "import glob,shutil\n",
        "path='/content/gdrive/My Drive/research/'\n",
        "src_dir='originals/'\n",
        "dest_dir='mendeley/'\n",
        "files=glob.glob('/content/gdrive/My Drive/research/mendeley/**/*.png')\n",
        "for fn in files:\n",
        "  fn_1=fn.split('/')[-1].split('.')[0]\n",
        "  fn_2=fn.split('/')[-2]\n",
        "  #print(path+dest_dir+fn_2+'/'+fn_1+'.png')\n",
        "  Image.open(fn).resize( (224, 224) ).save( fn, 'png')\n",
        "'''"
      ],
      "execution_count": null,
      "outputs": [
        {
          "output_type": "execute_result",
          "data": {
            "text/plain": [
              "\"\\n%cd /content/gdrive/My\\\\ Drive/research/\\n!rm  b63daee9-78de-4122-8475-9b3aa22ffd64\\n!wget https://data.mendeley.com/datasets/wmy84gzngw/1/files/b63daee9-78de-4122-8475-9b3aa22ffd64/us-dataset.zip\\n!unzip us-dataset.zip\\n#Convert bmp to png\\nfrom PIL import Image\\nimport glob,shutil\\npath='/content/gdrive/My Drive/research/'\\nsrc_dir='originals/'\\ndest_dir='mendeley/'\\nfiles=glob.glob('/content/gdrive/My Drive/research/mendeley/**/*.png')\\nfor fn in files:\\n  fn_1=fn.split('/')[-1].split('.')[0]\\n  fn_2=fn.split('/')[-2]\\n  #print(path+dest_dir+fn_2+'/'+fn_1+'.png')\\n  Image.open(fn).resize( (224, 224) ).save( fn, 'jpg')\\n\""
            ]
          },
          "metadata": {
            "tags": []
          },
          "execution_count": 25
        }
      ]
    },
    {
      "cell_type": "code",
      "metadata": {
        "id": "5hAcd4z4jZEd",
        "colab_type": "code",
        "colab": {
          "base_uri": "https://localhost:8080/",
          "height": 34
        },
        "outputId": "d0a894b4-6b69-449e-8e59-b25366d32d7b"
      },
      "source": [
        "import glob\n",
        "import numpy as np\n",
        "import matplotlib.pyplot as plt\n",
        "from keras.preprocessing.image import ImageDataGenerator, load_img, img_to_array, array_to_img\n",
        "%matplotlib inline\n",
        "file_path='/content/gdrive/My Drive/research/mendeley/**/*.png'\n",
        "\n",
        "IMG_DIM = (224, 224)\n",
        "\n",
        "\n",
        "files = glob.glob(file_path)\n",
        "data = np.array([img_to_array(load_img(img, target_size=IMG_DIM)) for img in files])\n",
        "labels = [fn.split('/')[-2].strip() for fn in files]\n",
        "print('Dataset shape:', data.shape) "
      ],
      "execution_count": null,
      "outputs": [
        {
          "output_type": "stream",
          "text": [
            "Dataset shape: (250, 224, 224, 3)\n"
          ],
          "name": "stdout"
        }
      ]
    },
    {
      "cell_type": "code",
      "metadata": {
        "id": "3K8d4o33kSfa",
        "colab_type": "code",
        "colab": {
          "base_uri": "https://localhost:8080/",
          "height": 34
        },
        "outputId": "7f020364-f2fa-40f2-8078-c4b06f9378b3"
      },
      "source": [
        "import numpy as np\n",
        "nb_classes=len(np.unique(labels))\n",
        "train_count=len(labels)\n",
        "nb_classes"
      ],
      "execution_count": null,
      "outputs": [
        {
          "output_type": "execute_result",
          "data": {
            "text/plain": [
              "2"
            ]
          },
          "metadata": {
            "tags": []
          },
          "execution_count": 34
        }
      ]
    },
    {
      "cell_type": "code",
      "metadata": {
        "id": "o5cTJ1H_kodC",
        "colab_type": "code",
        "colab": {
          "base_uri": "https://localhost:8080/",
          "height": 296
        },
        "outputId": "aabc4196-6823-40e7-d3f6-2e0375205d67"
      },
      "source": [
        "import pandas as pd\n",
        "df = pd.DataFrame()\n",
        "#df['images']  = train_imgs\n",
        "df['labels']  =labels\n",
        "import seaborn as sns\n",
        "sns.countplot(\"labels\",data= df)"
      ],
      "execution_count": null,
      "outputs": [
        {
          "output_type": "execute_result",
          "data": {
            "text/plain": [
              "<matplotlib.axes._subplots.AxesSubplot at 0x7f75fd590400>"
            ]
          },
          "metadata": {
            "tags": []
          },
          "execution_count": 37
        },
        {
          "output_type": "display_data",
          "data": {
            "image/png": "[encoded data removed]",
            "text/plain": [
              "<Figure size 432x288 with 1 Axes>"
            ]
          },
          "metadata": {
            "tags": [],
            "needs_background": "light"
          }
        }
      ]
    },
    {
      "cell_type": "code",
      "metadata": {
        "id": "_5WoOnnKljFZ",
        "colab_type": "code",
        "colab": {}
      },
      "source": [
        ""
      ],
      "execution_count": null,
      "outputs": []
    },
    {
      "cell_type": "code",
      "metadata": {
        "id": "V_oyKvBik0po",
        "colab_type": "code",
        "colab": {
          "base_uri": "https://localhost:8080/",
          "height": 34
        },
        "outputId": "5467fe3a-17a4-49ce-d776-966387e51546"
      },
      "source": [
        "from sklearn.utils import class_weight\n",
        "from sklearn.model_selection import train_test_split\n",
        "from sklearn.metrics import accuracy_score\n",
        "class_weights = class_weight.compute_class_weight('balanced',\n",
        "                                                 np.unique(labels),\n",
        "                                                 labels)\n",
        "class_weights"
      ],
      "execution_count": null,
      "outputs": [
        {
          "output_type": "execute_result",
          "data": {
            "text/plain": [
              "array([1.25      , 0.83333333])"
            ]
          },
          "metadata": {
            "tags": []
          },
          "execution_count": 38
        }
      ]
    },
    {
      "cell_type": "code",
      "metadata": {
        "id": "0rgWJBy1lgFB",
        "colab_type": "code",
        "colab": {}
      },
      "source": [
        "X_train, X_test, y_train, y_test = train_test_split(data, labels, test_size=0.20, random_state=42)"
      ],
      "execution_count": null,
      "outputs": []
    },
    {
      "cell_type": "code",
      "metadata": {
        "id": "XDasOeThpQGn",
        "colab_type": "code",
        "colab": {
          "base_uri": "https://localhost:8080/",
          "height": 187
        },
        "outputId": "f0810bae-db6c-4c5e-9d06-4dc497b1349a"
      },
      "source": [
        "from keras.utils import np_utils\n",
        "from sklearn.preprocessing import LabelEncoder\n",
        "le=LabelEncoder()\n",
        "y_train=le.fit_transform(y_train)\n",
        "y_test=le.fit_transform(y_test)\n",
        "# convert class vectors to binary class matrices\n",
        "#y_train = np_utils.to_categorical(le.fit_transform(y_train), nb_classes)\n",
        "#y_test = np_utils.to_categorical(le.fit_transform(y_test), nb_classes)\n",
        "k"
      ],
      "execution_count": null,
      "outputs": [
        {
          "output_type": "execute_result",
          "data": {
            "text/plain": [
              "array([1, 1, 1, 1, 1, 0, 1, 1, 1, 1, 1, 1, 1, 0, 1, 1, 1, 1, 1, 1, 0, 1,\n",
              "       1, 0, 1, 0, 0, 1, 0, 0, 0, 0, 1, 1, 1, 0, 1, 1, 1, 1, 0, 0, 0, 0,\n",
              "       0, 1, 0, 0, 1, 1, 0, 0, 1, 1, 0, 0, 1, 1, 0, 1, 0, 1, 1, 1, 1, 0,\n",
              "       0, 0, 0, 1, 1, 1, 1, 0, 0, 1, 1, 0, 0, 0, 1, 1, 0, 1, 1, 0, 1, 0,\n",
              "       1, 0, 1, 1, 1, 0, 1, 1, 1, 1, 0, 1, 0, 0, 1, 0, 1, 1, 0, 1, 1, 0,\n",
              "       0, 1, 0, 0, 1, 1, 0, 1, 1, 0, 1, 0, 1, 1, 1, 1, 0, 1, 0, 0, 1, 0,\n",
              "       1, 1, 0, 0, 1, 1, 0, 0, 0, 0, 1, 1, 0, 1, 0, 1, 1, 1, 1, 0, 0, 1,\n",
              "       0, 1, 1, 1, 1, 1, 1, 1, 1, 0, 0, 0, 0, 0, 1, 1, 1, 1, 1, 1, 0, 1,\n",
              "       1, 0, 0, 1, 1, 1, 1, 0, 1, 0, 1, 0, 1, 1, 1, 1, 0, 1, 0, 1, 0, 0,\n",
              "       1, 1])"
            ]
          },
          "metadata": {
            "tags": []
          },
          "execution_count": 74
        }
      ]
    },
    {
      "cell_type": "code",
      "metadata": {
        "id": "54lPNnoqlAy0",
        "colab_type": "code",
        "colab": {
          "base_uri": "https://localhost:8080/",
          "height": 51
        },
        "outputId": "2212db9a-2d18-4869-f5a0-52ceaefcbac8"
      },
      "source": [
        "from keras.preprocessing.image import ImageDataGenerator\n",
        "batchsize=32\n",
        "# create generators  - training data will be augmented images\n",
        "\n",
        "validationdatagenerator = ImageDataGenerator(rescale=1./255)\n",
        "traindatagenerator = ImageDataGenerator(rescale=1./255,width_shift_range=0.1,height_shift_range=0.1,rotation_range=15,zoom_range=0.1 )\n",
        "\n",
        "#balgen = BalancedDataGenerator(train_imgs, Y_train,traindatagenerator, batch_size=32)\n",
        "train_generator=traindatagenerator.flow(X_train, y_train, batch_size=batchsize) \n",
        "validation_generator=validationdatagenerator.flow(X_test, y_test,batch_size=batchsize)\n",
        "print(y_test)"
      ],
      "execution_count": null,
      "outputs": [
        {
          "output_type": "stream",
          "text": [
            "[1 0 0 0 1 1 1 1 0 1 1 1 1 1 0 1 1 0 1 0 1 0 1 0 1 0 0 0 0 1 1 0 1 1 0 1 0\n",
            " 1 1 1 1 0 1 1 1 0 1 0 1 0]\n"
          ],
          "name": "stdout"
        }
      ]
    },
    {
      "cell_type": "code",
      "metadata": {
        "id": "S2DsWHYJmEWN",
        "colab_type": "code",
        "colab": {
          "base_uri": "https://localhost:8080/",
          "height": 697
        },
        "outputId": "66b863d2-5e23-4c0b-fd81-b9cb99d3d10e"
      },
      "source": [
        "#All Necessary Imports\n",
        "import numpy as np\n",
        "import os\n",
        "import time\n",
        "from keras.applications.vgg16 import VGG16\n",
        "from keras.preprocessing import image\n",
        "from keras.applications.vgg16 import preprocess_input\n",
        "from keras.layers import Dense, Activation, Flatten\n",
        "from keras.layers import merge, Input\n",
        "from keras.models import Model\n",
        "from keras.utils import np_utils\n",
        "from sklearn.utils import shuffle\n",
        "from sklearn.model_selection import train_test_split\n",
        "import tensorflow as tf\n",
        "from keras import backend as K\n",
        "from keras.applications import vgg16\n",
        "from keras.models import Model\n",
        "import keras\n",
        "from keras.callbacks import EarlyStopping, ModelCheckpoint, ReduceLROnPlateau\n",
        "resolver = tf.distribute.cluster_resolver.TPUClusterResolver()\n",
        "tf.config.experimental_connect_to_cluster(resolver)\n",
        "tf.tpu.experimental.initialize_tpu_system(resolver)\n",
        "strategy = tf.distribute.experimental.TPUStrategy(tf.distribute.cluster_resolver.TPUClusterResolver())"
      ],
      "execution_count": null,
      "outputs": [
        {
          "output_type": "stream",
          "text": [
            "INFO:tensorflow:Initializing the TPU system: grpc://10.43.64.194:8470\n"
          ],
          "name": "stdout"
        },
        {
          "output_type": "stream",
          "text": [
            "INFO:tensorflow:Initializing the TPU system: grpc://10.43.64.194:8470\n"
          ],
          "name": "stderr"
        },
        {
          "output_type": "stream",
          "text": [
            "INFO:tensorflow:Clearing out eager caches\n"
          ],
          "name": "stdout"
        },
        {
          "output_type": "stream",
          "text": [
            "INFO:tensorflow:Clearing out eager caches\n"
          ],
          "name": "stderr"
        },
        {
          "output_type": "stream",
          "text": [
            "INFO:tensorflow:Finished initializing TPU system.\n"
          ],
          "name": "stdout"
        },
        {
          "output_type": "stream",
          "text": [
            "INFO:tensorflow:Finished initializing TPU system.\n"
          ],
          "name": "stderr"
        },
        {
          "output_type": "stream",
          "text": [
            "INFO:tensorflow:Found TPU system:\n"
          ],
          "name": "stdout"
        },
        {
          "output_type": "stream",
          "text": [
            "INFO:tensorflow:Found TPU system:\n"
          ],
          "name": "stderr"
        },
        {
          "output_type": "stream",
          "text": [
            "INFO:tensorflow:*** Num TPU Cores: 8\n"
          ],
          "name": "stdout"
        },
        {
          "output_type": "stream",
          "text": [
            "INFO:tensorflow:*** Num TPU Cores: 8\n"
          ],
          "name": "stderr"
        },
        {
          "output_type": "stream",
          "text": [
            "INFO:tensorflow:*** Num TPU Workers: 1\n"
          ],
          "name": "stdout"
        },
        {
          "output_type": "stream",
          "text": [
            "INFO:tensorflow:*** Num TPU Workers: 1\n"
          ],
          "name": "stderr"
        },
        {
          "output_type": "stream",
          "text": [
            "INFO:tensorflow:*** Num TPU Cores Per Worker: 8\n"
          ],
          "name": "stdout"
        },
        {
          "output_type": "stream",
          "text": [
            "INFO:tensorflow:*** Num TPU Cores Per Worker: 8\n"
          ],
          "name": "stderr"
        },
        {
          "output_type": "stream",
          "text": [
            "INFO:tensorflow:*** Available Device: _DeviceAttributes(/job:localhost/replica:0/task:0/device:CPU:0, CPU, 0, 0)\n"
          ],
          "name": "stdout"
        },
        {
          "output_type": "stream",
          "text": [
            "INFO:tensorflow:*** Available Device: _DeviceAttributes(/job:localhost/replica:0/task:0/device:CPU:0, CPU, 0, 0)\n"
          ],
          "name": "stderr"
        },
        {
          "output_type": "stream",
          "text": [
            "INFO:tensorflow:*** Available Device: _DeviceAttributes(/job:localhost/replica:0/task:0/device:XLA_CPU:0, XLA_CPU, 0, 0)\n"
          ],
          "name": "stdout"
        },
        {
          "output_type": "stream",
          "text": [
            "INFO:tensorflow:*** Available Device: _DeviceAttributes(/job:localhost/replica:0/task:0/device:XLA_CPU:0, XLA_CPU, 0, 0)\n"
          ],
          "name": "stderr"
        },
        {
          "output_type": "stream",
          "text": [
            "INFO:tensorflow:*** Available Device: _DeviceAttributes(/job:worker/replica:0/task:0/device:CPU:0, CPU, 0, 0)\n"
          ],
          "name": "stdout"
        },
        {
          "output_type": "stream",
          "text": [
            "INFO:tensorflow:*** Available Device: _DeviceAttributes(/job:worker/replica:0/task:0/device:CPU:0, CPU, 0, 0)\n"
          ],
          "name": "stderr"
        },
        {
          "output_type": "stream",
          "text": [
            "INFO:tensorflow:*** Available Device: _DeviceAttributes(/job:worker/replica:0/task:0/device:TPU:0, TPU, 0, 0)\n"
          ],
          "name": "stdout"
        },
        {
          "output_type": "stream",
          "text": [
            "INFO:tensorflow:*** Available Device: _DeviceAttributes(/job:worker/replica:0/task:0/device:TPU:0, TPU, 0, 0)\n"
          ],
          "name": "stderr"
        },
        {
          "output_type": "stream",
          "text": [
            "INFO:tensorflow:*** Available Device: _DeviceAttributes(/job:worker/replica:0/task:0/device:TPU:1, TPU, 0, 0)\n"
          ],
          "name": "stdout"
        },
        {
          "output_type": "stream",
          "text": [
            "INFO:tensorflow:*** Available Device: _DeviceAttributes(/job:worker/replica:0/task:0/device:TPU:1, TPU, 0, 0)\n"
          ],
          "name": "stderr"
        },
        {
          "output_type": "stream",
          "text": [
            "INFO:tensorflow:*** Available Device: _DeviceAttributes(/job:worker/replica:0/task:0/device:TPU:2, TPU, 0, 0)\n"
          ],
          "name": "stdout"
        },
        {
          "output_type": "stream",
          "text": [
            "INFO:tensorflow:*** Available Device: _DeviceAttributes(/job:worker/replica:0/task:0/device:TPU:2, TPU, 0, 0)\n"
          ],
          "name": "stderr"
        },
        {
          "output_type": "stream",
          "text": [
            "INFO:tensorflow:*** Available Device: _DeviceAttributes(/job:worker/replica:0/task:0/device:TPU:3, TPU, 0, 0)\n"
          ],
          "name": "stdout"
        },
        {
          "output_type": "stream",
          "text": [
            "INFO:tensorflow:*** Available Device: _DeviceAttributes(/job:worker/replica:0/task:0/device:TPU:3, TPU, 0, 0)\n"
          ],
          "name": "stderr"
        },
        {
          "output_type": "stream",
          "text": [
            "INFO:tensorflow:*** Available Device: _DeviceAttributes(/job:worker/replica:0/task:0/device:TPU:4, TPU, 0, 0)\n"
          ],
          "name": "stdout"
        },
        {
          "output_type": "stream",
          "text": [
            "INFO:tensorflow:*** Available Device: _DeviceAttributes(/job:worker/replica:0/task:0/device:TPU:4, TPU, 0, 0)\n"
          ],
          "name": "stderr"
        },
        {
          "output_type": "stream",
          "text": [
            "INFO:tensorflow:*** Available Device: _DeviceAttributes(/job:worker/replica:0/task:0/device:TPU:5, TPU, 0, 0)\n"
          ],
          "name": "stdout"
        },
        {
          "output_type": "stream",
          "text": [
            "INFO:tensorflow:*** Available Device: _DeviceAttributes(/job:worker/replica:0/task:0/device:TPU:5, TPU, 0, 0)\n"
          ],
          "name": "stderr"
        },
        {
          "output_type": "stream",
          "text": [
            "INFO:tensorflow:*** Available Device: _DeviceAttributes(/job:worker/replica:0/task:0/device:TPU:6, TPU, 0, 0)\n"
          ],
          "name": "stdout"
        },
        {
          "output_type": "stream",
          "text": [
            "INFO:tensorflow:*** Available Device: _DeviceAttributes(/job:worker/replica:0/task:0/device:TPU:6, TPU, 0, 0)\n"
          ],
          "name": "stderr"
        },
        {
          "output_type": "stream",
          "text": [
            "INFO:tensorflow:*** Available Device: _DeviceAttributes(/job:worker/replica:0/task:0/device:TPU:7, TPU, 0, 0)\n"
          ],
          "name": "stdout"
        },
        {
          "output_type": "stream",
          "text": [
            "INFO:tensorflow:*** Available Device: _DeviceAttributes(/job:worker/replica:0/task:0/device:TPU:7, TPU, 0, 0)\n"
          ],
          "name": "stderr"
        },
        {
          "output_type": "stream",
          "text": [
            "INFO:tensorflow:*** Available Device: _DeviceAttributes(/job:worker/replica:0/task:0/device:TPU_SYSTEM:0, TPU_SYSTEM, 0, 0)\n"
          ],
          "name": "stdout"
        },
        {
          "output_type": "stream",
          "text": [
            "INFO:tensorflow:*** Available Device: _DeviceAttributes(/job:worker/replica:0/task:0/device:TPU_SYSTEM:0, TPU_SYSTEM, 0, 0)\n"
          ],
          "name": "stderr"
        },
        {
          "output_type": "stream",
          "text": [
            "INFO:tensorflow:*** Available Device: _DeviceAttributes(/job:worker/replica:0/task:0/device:XLA_CPU:0, XLA_CPU, 0, 0)\n"
          ],
          "name": "stdout"
        },
        {
          "output_type": "stream",
          "text": [
            "INFO:tensorflow:*** Available Device: _DeviceAttributes(/job:worker/replica:0/task:0/device:XLA_CPU:0, XLA_CPU, 0, 0)\n"
          ],
          "name": "stderr"
        }
      ]
    },
    {
      "cell_type": "code",
      "metadata": {
        "id": "Ig3wyOLImM3Q",
        "colab_type": "code",
        "colab": {
          "base_uri": "https://localhost:8080/",
          "height": 986
        },
        "outputId": "5de72a68-68f8-422f-e3c6-5992f0810d91"
      },
      "source": [
        "from keras.applications.vgg16 import VGG16\n",
        "\n",
        "vgg16_model = VGG16(weights=\"imagenet\", include_top=True)\n",
        " \n",
        "    #visualize layers\n",
        "#print(\"VGG16 model layers\")\n",
        "#for i, layer in enumerate(vgg16_model.layers):\n",
        "#    print(i, layer.name, layer.output_shape)\n",
        "from keras.layers import Dense, Dropout, Reshape\n",
        "from keras.models import Model, load_model\n",
        "# (2) remove the top layer\n",
        "with strategy.scope():\n",
        "  base_model = Model(input=vgg16_model.input, \n",
        "                    output=vgg16_model.get_layer(\"block5_pool\").output)\n",
        "  # (3) attach a new top layer\n",
        "  base_out = base_model.output\n",
        "  base_out = Reshape((25088,))(base_out)\n",
        "  top_fc1 = Dense(256, activation=\"relu\")(base_out)\n",
        "  top_fc1 = Dropout(0.5)(top_fc1)\n",
        "  # output layer: (None, 5)\n",
        "  top_preds = Dense(1, activation=\"sigmoid\")(top_fc1)\n",
        "  # (4) freeze weights until the last but one convolution layer (block4_pool)\n",
        "  for layer in base_model.layers[0:14]:\n",
        "      #print(layer.name)\n",
        "      layer.trainable = False\n",
        "  model = Model(input=base_model.input, output=top_preds)\n",
        "  model.compile(optimizer='adam', loss=\"binary_crossentropy\",\n",
        "              metrics=[\"accuracy\"])\n",
        "model.summary()"
      ],
      "execution_count": null,
      "outputs": [
        {
          "output_type": "stream",
          "text": [
            "/usr/local/lib/python3.6/dist-packages/ipykernel_launcher.py:14: UserWarning: Update your `Model` call to the Keras 2 API: `Model(inputs=Tensor(\"in..., outputs=Tensor(\"bl...)`\n",
            "  \n"
          ],
          "name": "stderr"
        },
        {
          "output_type": "stream",
          "text": [
            "Model: \"model_8\"\n",
            "_________________________________________________________________\n",
            "Layer (type)                 Output Shape              Param #   \n",
            "=================================================================\n",
            "input_5 (InputLayer)         (None, 224, 224, 3)       0         \n",
            "_________________________________________________________________\n",
            "block1_conv1 (Conv2D)        (None, 224, 224, 64)      1792      \n",
            "_________________________________________________________________\n",
            "block1_conv2 (Conv2D)        (None, 224, 224, 64)      36928     \n",
            "_________________________________________________________________\n",
            "block1_pool (MaxPooling2D)   (None, 112, 112, 64)      0         \n",
            "_________________________________________________________________\n",
            "block2_conv1 (Conv2D)        (None, 112, 112, 128)     73856     \n",
            "_________________________________________________________________\n",
            "block2_conv2 (Conv2D)        (None, 112, 112, 128)     147584    \n",
            "_________________________________________________________________\n",
            "block2_pool (MaxPooling2D)   (None, 56, 56, 128)       0         \n",
            "_________________________________________________________________\n",
            "block3_conv1 (Conv2D)        (None, 56, 56, 256)       295168    \n",
            "_________________________________________________________________\n",
            "block3_conv2 (Conv2D)        (None, 56, 56, 256)       590080    \n",
            "_________________________________________________________________\n",
            "block3_conv3 (Conv2D)        (None, 56, 56, 256)       590080    \n",
            "_________________________________________________________________\n",
            "block3_pool (MaxPooling2D)   (None, 28, 28, 256)       0         \n",
            "_________________________________________________________________\n",
            "block4_conv1 (Conv2D)        (None, 28, 28, 512)       1180160   \n",
            "_________________________________________________________________\n",
            "block4_conv2 (Conv2D)        (None, 28, 28, 512)       2359808   \n",
            "_________________________________________________________________\n",
            "block4_conv3 (Conv2D)        (None, 28, 28, 512)       2359808   \n",
            "_________________________________________________________________\n",
            "block4_pool (MaxPooling2D)   (None, 14, 14, 512)       0         \n",
            "_________________________________________________________________\n",
            "block5_conv1 (Conv2D)        (None, 14, 14, 512)       2359808   \n",
            "_________________________________________________________________\n",
            "block5_conv2 (Conv2D)        (None, 14, 14, 512)       2359808   \n",
            "_________________________________________________________________\n",
            "block5_conv3 (Conv2D)        (None, 14, 14, 512)       2359808   \n",
            "_________________________________________________________________\n",
            "block5_pool (MaxPooling2D)   (None, 7, 7, 512)         0         \n",
            "_________________________________________________________________\n",
            "reshape_4 (Reshape)          (None, 25088)             0         \n",
            "_________________________________________________________________\n",
            "dense_7 (Dense)              (None, 256)               6422784   \n",
            "_________________________________________________________________\n",
            "dropout_4 (Dropout)          (None, 256)               0         \n",
            "_________________________________________________________________\n",
            "dense_8 (Dense)              (None, 1)                 257       \n",
            "=================================================================\n",
            "Total params: 21,137,729\n",
            "Trainable params: 13,502,465\n",
            "Non-trainable params: 7,635,264\n",
            "_________________________________________________________________\n"
          ],
          "name": "stdout"
        },
        {
          "output_type": "stream",
          "text": [
            "/usr/local/lib/python3.6/dist-packages/ipykernel_launcher.py:26: UserWarning: Update your `Model` call to the Keras 2 API: `Model(inputs=Tensor(\"in..., outputs=Tensor(\"de...)`\n"
          ],
          "name": "stderr"
        }
      ]
    },
    {
      "cell_type": "code",
      "metadata": {
        "id": "LfuWt8l8mrZd",
        "colab_type": "code",
        "colab": {
          "base_uri": "https://localhost:8080/",
          "height": 442
        },
        "outputId": "b83747e0-68ae-4aae-d3c9-de5a82d50b0c"
      },
      "source": [
        "from keras.callbacks import EarlyStopping, ModelCheckpoint, ReduceLROnPlateau\n",
        "early_stopping = EarlyStopping(monitor='accuracy', mode='max', patience=3, verbose=2)\n",
        "model_checkpoint = ModelCheckpoint(model_path+'/vgg16_mendeley_TL_fine.h5', save_best_only=True, verbose=2)\n",
        "history= model.fit_generator(train_generator, steps_per_epoch=int(train_generator.n), \n",
        "                    epochs=10, validation_data=validation_generator, class_weight=class_weights,\n",
        "                    validation_steps=int(validation_generator.n),callbacks=[early_stopping, model_checkpoint])"
      ],
      "execution_count": null,
      "outputs": [
        {
          "output_type": "stream",
          "text": [
            "Epoch 1/10\n",
            "200/200 [==============================] - 193s 965ms/step - loss: 0.0327 - accuracy: 0.9913 - val_loss: 2.0584e-10 - val_accuracy: 1.0000\n",
            "\n",
            "Epoch 00001: val_loss improved from inf to 0.00000, saving model to /content/gdrive/My Drive/research/model/vgg16_mendeley_TL_fine.h5\n",
            "Epoch 2/10\n",
            "200/200 [==============================] - 192s 960ms/step - loss: 0.0107 - accuracy: 0.9967 - val_loss: 1.1253e-06 - val_accuracy: 1.0000\n",
            "\n",
            "Epoch 00002: val_loss did not improve from 0.00000\n",
            "Epoch 3/10\n",
            "200/200 [==============================] - 192s 961ms/step - loss: 0.0058 - accuracy: 0.9982 - val_loss: 1.5808e-07 - val_accuracy: 1.0000\n",
            "\n",
            "Epoch 00003: val_loss did not improve from 0.00000\n",
            "Epoch 4/10\n",
            "200/200 [==============================] - 193s 965ms/step - loss: 0.0172 - accuracy: 0.9963 - val_loss: 3.7620e-04 - val_accuracy: 1.0000\n",
            "\n",
            "Epoch 00004: val_loss did not improve from 0.00000\n",
            "Epoch 5/10\n",
            "200/200 [==============================] - 193s 963ms/step - loss: 0.0553 - accuracy: 0.9881 - val_loss: 0.0011 - val_accuracy: 1.0000\n",
            "\n",
            "Epoch 00005: val_loss did not improve from 0.00000\n",
            "Epoch 6/10\n",
            "200/200 [==============================] - 193s 964ms/step - loss: 0.0475 - accuracy: 0.9900 - val_loss: 0.0098 - val_accuracy: 1.0000\n",
            "\n",
            "Epoch 00006: val_loss did not improve from 0.00000\n",
            "Epoch 00006: early stopping\n"
          ],
          "name": "stdout"
        }
      ]
    }
  ]
}