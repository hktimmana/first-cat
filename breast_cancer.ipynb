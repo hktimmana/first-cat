{
 "cells": [
  {
   "cell_type": "code",
   "execution_count": null,
   "metadata": {},
   "outputs": [],
   "source": [
    "#Program to classify steve jobs and zukerbergs images using spark-dl lib\n",
    "#$ cat jupyter.sh\n",
    "#function dlnotebook()\n",
    "#{\n",
    "#export PYSPARK_PYTHON=python3\n",
    "#export PYSPARK_DRIVER_PYTHON=/hadoop/softwares/anaconda3/bin/jupyter\n",
    "#export PYSPARK_DRIVER_PYTHON_OPTS=\"notebook --no-browser --ip=190.165.0.102\"\n",
    "#$SPARK_HOME/bin/pyspark --packages databricks:spark-deep-learning:1.5.0-spark2.4-s_2.11\n",
    "#}\n",
    "#dlnotebook\n",
    "#####################################\n",
    "#for input data set \n",
    "#curl -O https://github.com/zsellami/images_classification/blob/master/personalities.zip\n",
    "#unzip personalities.zip\n",
    "#hdfs dfs -put personalities /tmp\n",
    "#######################################################################################"
   ]
  },
  {
   "cell_type": "code",
   "execution_count": 2,
   "metadata": {},
   "outputs": [
    {
     "name": "stderr",
     "output_type": "stream",
     "text": [
      "Using TensorFlow backend.\n"
     ]
    }
   ],
   "source": [
    "import sys\n",
    "import pyspark\n",
    "from pyspark.sql import SparkSession,HiveContext\n",
    "from pyspark import SparkConf,SparkContext\n",
    "from pyspark.sql.functions import *\n",
    "import sparkdl as dl\n",
    "from keras.applications import InceptionV3"
   ]
  },
  {
   "cell_type": "code",
   "execution_count": 3,
   "metadata": {},
   "outputs": [],
   "source": [
    "spark = SparkSession.builder\\\n",
    ".master(\"yarn\") \\\n",
    ".appName(\"ImageClassification\") \\\n",
    ".config(\"spark.executor.memory\", \"16gb\") \\\n",
    ".config(\"spark.driver.memory\", \"16G\") \\\n",
    ".config(\"spark.driver.offHeap.enabled\", \"true\") \\\n",
    ".config(\"spark.driver.offHeap.size\", \"32G\") \\\n",
    ".config(\"spark.executor.maxResultSize\", \"16gb\") \\\n",
    ".config(\"spark.sql.broadcastTimeout\",\"360000\") \\\n",
    ".getOrCreate()\n",
    "   "
   ]
  },
  {
   "cell_type": "code",
   "execution_count": 8,
   "metadata": {},
   "outputs": [
    {
     "name": "stdout",
     "output_type": "stream",
     "text": [
      "+--------------------+-----+\n",
      "|               image|label|\n",
      "+--------------------+-----+\n",
      "|[hdfs://Namenode:...|    0|\n",
      "|[hdfs://Namenode:...|    0|\n",
      "|[hdfs://Namenode:...|    0|\n",
      "|[hdfs://Namenode:...|    0|\n",
      "|[hdfs://Namenode:...|    0|\n",
      "|[hdfs://Namenode:...|    0|\n",
      "|[hdfs://Namenode:...|    0|\n",
      "|[hdfs://Namenode:...|    0|\n",
      "|[hdfs://Namenode:...|    0|\n",
      "|[hdfs://Namenode:...|    0|\n",
      "|[hdfs://Namenode:...|    0|\n",
      "|[hdfs://Namenode:...|    0|\n",
      "|[hdfs://Namenode:...|    0|\n",
      "|[hdfs://Namenode:...|    0|\n",
      "|[hdfs://Namenode:...|    1|\n",
      "|[hdfs://Namenode:...|    1|\n",
      "|[hdfs://Namenode:...|    1|\n",
      "|[hdfs://Namenode:...|    1|\n",
      "|[hdfs://Namenode:...|    1|\n",
      "|[hdfs://Namenode:...|    1|\n",
      "+--------------------+-----+\n",
      "only showing top 20 rows\n",
      "\n"
     ]
    }
   ],
   "source": [
    "img_dir = \"/tmp/personalities/\"\n",
    "\n",
    "#Read images and Create training & test DataFrames for transfer learning\n",
    "from pyspark.ml.image import ImageSchema\n",
    "jobs_df =  ImageSchema.readImages(img_dir + \"/jobs\").withColumn(\"label\", lit(0))\n",
    "zuckerberg_df =  ImageSchema.readImages(img_dir + \"/zuckerberg\").withColumn(\"label\", lit(1))\n",
    "jobs_train, jobs_test = jobs_df.randomSplit([0.8, 0.2])\n",
    "zuckerberg_train, zuckerberg_test = zuckerberg_df.randomSplit([0.8, 0.2])\n",
    "\n",
    "#dataframe for training a classification model\n",
    "trainDF = jobs_train.unionAll(zuckerberg_train)\n",
    "#dataframe for testing the classification model\n",
    "testDF = jobs_test.unionAll(zuckerberg_test)\n",
    "trainDF.show()#select('label').distinct().show()"
   ]
  },
  {
   "cell_type": "code",
   "execution_count": 16,
   "metadata": {},
   "outputs": [],
   "source": [
    "from pyspark.ml.classification import LogisticRegression\n",
    "from pyspark.ml.evaluation import MulticlassClassificationEvaluator\n",
    "from pyspark.ml import Pipeline\n",
    "from sparkdl import DeepImageFeaturizer\n",
    "\n",
    "featurizer = DeepImageFeaturizer(inputCol=\"image\", outputCol=\"features\", modelName=\"InceptionV3\")\n",
    "lr = LogisticRegression(maxIter=20, regParam=0.05, elasticNetParam=0.3, labelCol=\"label\",featuresCol=\"features\")  \n",
    "p = Pipeline(stages=[featurizer, lr])\n",
    "model = p.fit(trainDF)    # train_images_df is a dataset of images and labels"
   ]
  },
  {
   "cell_type": "code",
   "execution_count": 17,
   "metadata": {},
   "outputs": [],
   "source": [
    "lrmodel=model\n",
    "lrmodel.stages[1].write().overwrite().save('lr')"
   ]
  },
  {
   "cell_type": "code",
   "execution_count": 26,
   "metadata": {},
   "outputs": [],
   "source": []
  },
  {
   "cell_type": "code",
   "execution_count": 27,
   "metadata": {},
   "outputs": [
    {
     "name": "stdout",
     "output_type": "stream",
     "text": [
      "Training set accuracy = 0.8571428571428571\n"
     ]
    }
   ],
   "source": [
    "# Inspect training error\n",
    "df = lrmodel.transform(testDF)\n",
    "predictionAndLabels = df.select(\"prediction\", \"label\")\n",
    "evaluator = MulticlassClassificationEvaluator(metricName=\"accuracy\")\n",
    "print(\"Training set accuracy = \" + str(evaluator.evaluate(predictionAndLabels)))"
   ]
  },
  {
   "cell_type": "code",
   "execution_count": 28,
   "metadata": {},
   "outputs": [],
   "source": [
    "from pyspark.ml.classification import DecisionTreeClassifier\n",
    "from pyspark.ml import Pipeline\n",
    "vectorizer = dl.DeepImageFeaturizer(inputCol=\"image\", outputCol=\"features\", modelName='InceptionV3')\n",
    "\n",
    "dt = DecisionTreeClassifier(labelCol = \"label\", featuresCol=\"features\", maxDepth = 3)\n",
    "\n",
    "dt_pipeline = Pipeline(stages=[vectorizer, dt])\n",
    "\n",
    "dt_model = dt_pipeline.fit(trainDF)"
   ]
  },
  {
   "cell_type": "code",
   "execution_count": 29,
   "metadata": {},
   "outputs": [
    {
     "name": "stdout",
     "output_type": "stream",
     "text": [
      "Training set accuracy = 0.5714285714285714\n"
     ]
    }
   ],
   "source": [
    "# Inspect training error\n",
    "df = dt_model.transform(testDF)\n",
    "predictionAndLabels = df.select(\"prediction\", \"label\")\n",
    "evaluator = MulticlassClassificationEvaluator(metricName=\"accuracy\")\n",
    "print(\"Training set accuracy = \" + str(evaluator.evaluate(predictionAndLabels)))"
   ]
  },
  {
   "cell_type": "code",
   "execution_count": 30,
   "metadata": {},
   "outputs": [],
   "source": [
    "from pyspark.ml.classification import RandomForestClassifier\n",
    "\n",
    "from pyspark.ml import Pipeline\n",
    "## Xception InceptionV3\n",
    "vectorizer = dl.DeepImageFeaturizer(inputCol=\"image\", outputCol=\"features\", modelName='InceptionV3')\n",
    "rf = RandomForestClassifier(labelCol = \"label\", featuresCol=\"features\")\n",
    "rf_pipeline = Pipeline(stages=[vectorizer, rf])\n",
    "rfmodel = rf_pipeline.fit(trainDF)"
   ]
  },
  {
   "cell_type": "code",
   "execution_count": 31,
   "metadata": {},
   "outputs": [
    {
     "name": "stdout",
     "output_type": "stream",
     "text": [
      "Training set accuracy = 0.7142857142857143\n"
     ]
    }
   ],
   "source": [
    "# Inspect training error\n",
    "df = rfmodel.transform(testDF)\n",
    "predictionAndLabels = df.select(\"prediction\", \"label\")\n",
    "evaluator = MulticlassClassificationEvaluator(metricName=\"accuracy\")\n",
    "print(\"Training set accuracy = \" + str(evaluator.evaluate(predictionAndLabels)))"
   ]
  },
  {
   "cell_type": "code",
   "execution_count": 32,
   "metadata": {},
   "outputs": [],
   "source": [
    "from pyspark.ml.classification import GBTClassifier\n",
    "\n",
    "from pyspark.ml import Pipeline\n",
    "## Xception InceptionV3\n",
    "vectorizer = dl.DeepImageFeaturizer(inputCol=\"image\", outputCol=\"features\", modelName='InceptionV3')\n",
    "gbt = GBTClassifier(maxIter=10)\n",
    "gbt_pipeline = Pipeline(stages=[vectorizer, gbt])\n",
    "gbt_model = gbt_pipeline.fit(trainDF)\n"
   ]
  },
  {
   "cell_type": "code",
   "execution_count": 33,
   "metadata": {},
   "outputs": [
    {
     "name": "stdout",
     "output_type": "stream",
     "text": [
      "Training set accuracy = 0.5714285714285714\n"
     ]
    }
   ],
   "source": [
    "# Inspect training error\n",
    "df = gbt_model.transform(testDF)\n",
    "predictionAndLabels = df.select(\"prediction\", \"label\")\n",
    "evaluator = MulticlassClassificationEvaluator(metricName=\"accuracy\")\n",
    "print(\"Training set accuracy = \" + str(evaluator.evaluate(predictionAndLabels)))"
   ]
  },
  {
   "cell_type": "code",
   "execution_count": 37,
   "metadata": {},
   "outputs": [
    {
     "name": "stdout",
     "output_type": "stream",
     "text": [
      "accuracy: 70.0%\n"
     ]
    }
   ],
   "source": [
    "prediction= predictionAndLabels#.select(\"prediction\")\n",
    "from pyspark.ml.evaluation import BinaryClassificationEvaluator\n",
    "binaryevaluator = BinaryClassificationEvaluator(rawPredictionCol=\"prediction\")\n",
    "binary_rate = binaryevaluator.evaluate(prediction)*100\n",
    "print(\"accuracy: {}%\" .format(binary_rate))"
   ]
  },
  {
   "cell_type": "code",
   "execution_count": null,
   "metadata": {},
   "outputs": [],
   "source": []
  }
 ],
 "metadata": {
  "kernelspec": {
   "display_name": "Python 3",
   "language": "python",
   "name": "python3"
  },
  "language_info": {
   "codemirror_mode": {
    "name": "ipython",
    "version": 3
   },
   "file_extension": ".py",
   "mimetype": "text/x-python",
   "name": "python",
   "nbconvert_exporter": "python",
   "pygments_lexer": "ipython3",
   "version": "3.7.3"
  }
 },
 "nbformat": 4,
 "nbformat_minor": 2
}
