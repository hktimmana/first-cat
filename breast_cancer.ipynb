{
 "cells": [
  {
   "cell_type": "code",
   "execution_count": null,
   "metadata": {},
   "outputs": [],
   "source": [
    "#Program to classify steve jobs and zukerbergs images using spark-dl lib\n",
    "#$ cat jupyter.sh\n",
    "#function dlnotebook()\n",
    "#{\n",
    "#export PYSPARK_PYTHON=python3\n",
    "#export PYSPARK_DRIVER_PYTHON=/hadoop/softwares/anaconda3/bin/jupyter\n",
    "#export PYSPARK_DRIVER_PYTHON_OPTS=\"notebook --no-browser --ip=190.165.0.102\"\n",
    "#$SPARK_HOME/bin/pyspark --packages databricks:spark-deep-learning:1.5.0-spark2.4-s_2.11\n",
    "#}\n",
    "#dlnotebook\n",
    "#####################################\n",
    "#for input data set \n",
    "#curl -O https://github.com/zsellami/images_classification/blob/master/personalities.zip\n",
    "#unzip personalities.zip\n",
    "#hdfs dfs -put personalities /tmp\n",
    "#######################################################################################"
   ]
  },
  {
   "cell_type": "code",
   "execution_count": 2,
   "metadata": {},
   "outputs": [
    {
     "name": "stderr",
     "output_type": "stream",
     "text": [
      "Using TensorFlow backend.\n"
     ]
    }
   ],
   "source": [
    "import sys\n",
    "import pyspark\n",
    "from pyspark.sql import SparkSession,HiveContext\n",
    "from pyspark import SparkConf,SparkContext\n",
    "from pyspark.sql.functions import *\n",
    "import sparkdl as dl\n",
    "from keras.applications import InceptionV3"
   ]
  },
  {
   "cell_type": "code",
   "execution_count": 3,
   "metadata": {},
   "outputs": [],
   "source": [
    "spark = SparkSession.builder\\\n",
    ".master(\"yarn\") \\\n",
    ".appName(\"ImageClassification\") \\\n",
    ".config(\"spark.executor.memory\", \"16gb\") \\\n",
    ".config(\"spark.driver.memory\", \"16G\") \\\n",
    ".config(\"spark.driver.offHeap.enabled\", \"true\") \\\n",
    ".config(\"spark.driver.offHeap.size\", \"32G\") \\\n",
    ".config(\"spark.executor.maxResultSize\", \"16gb\") \\\n",
    ".config(\"spark.sql.broadcastTimeout\",\"360000\") \\\n",
    ".getOrCreate()\n",
    "   "
   ]
  },
  {
   "cell_type": "code",
   "execution_count": 4,
   "metadata": {},
   "outputs": [
    {
     "name": "stdout",
     "output_type": "stream",
     "text": [
      "+--------------------+-----+\n",
      "|               image|label|\n",
      "+--------------------+-----+\n",
      "|[hdfs://Namenode:...|    0|\n",
      "|[hdfs://Namenode:...|    0|\n",
      "|[hdfs://Namenode:...|    0|\n",
      "|[hdfs://Namenode:...|    0|\n",
      "|[hdfs://Namenode:...|    0|\n",
      "|[hdfs://Namenode:...|    0|\n",
      "|[hdfs://Namenode:...|    0|\n",
      "|[hdfs://Namenode:...|    0|\n",
      "|[hdfs://Namenode:...|    0|\n",
      "|[hdfs://Namenode:...|    0|\n",
      "|[hdfs://Namenode:...|    0|\n",
      "|[hdfs://Namenode:...|    0|\n",
      "|[hdfs://Namenode:...|    0|\n",
      "|[hdfs://Namenode:...|    1|\n",
      "|[hdfs://Namenode:...|    1|\n",
      "|[hdfs://Namenode:...|    1|\n",
      "|[hdfs://Namenode:...|    1|\n",
      "|[hdfs://Namenode:...|    1|\n",
      "|[hdfs://Namenode:...|    1|\n",
      "|[hdfs://Namenode:...|    1|\n",
      "+--------------------+-----+\n",
      "only showing top 20 rows\n",
      "\n"
     ]
    }
   ],
   "source": [
    "img_dir = \"/tmp/personalities/\"\n",
    "\n",
    "#Read images and Create training & test DataFrames for transfer learning\n",
    "from pyspark.ml.image import ImageSchema\n",
    "jobs_df =  ImageSchema.readImages(img_dir + \"/jobs\").withColumn(\"label\", lit(0))\n",
    "zuckerberg_df =  ImageSchema.readImages(img_dir + \"/zuckerberg\").withColumn(\"label\", lit(1))\n",
    "jobs_train, jobs_test = jobs_df.randomSplit([0.8, 0.2])\n",
    "zuckerberg_train, zuckerberg_test = zuckerberg_df.randomSplit([0.8, 0.2])\n",
    "\n",
    "#dataframe for training a classification model\n",
    "trainDF = jobs_train.unionAll(zuckerberg_train)\n",
    "#dataframe for testing the classification model\n",
    "testDF = jobs_test.unionAll(zuckerberg_test)\n",
    "trainDF.show()#select('label').distinct().show()"
   ]
  },
  {
   "cell_type": "code",
   "execution_count": 5,
   "metadata": {},
   "outputs": [],
   "source": [
    "from pyspark.ml.classification import LogisticRegression\n",
    "from pyspark.ml.evaluation import MulticlassClassificationEvaluator\n",
    "from pyspark.ml import Pipeline\n",
    "from sparkdl import DeepImageFeaturizer\n",
    "\n",
    "featurizer = DeepImageFeaturizer(inputCol=\"image\", outputCol=\"features\", modelName=\"InceptionV3\")\n",
    "lr = LogisticRegression(maxIter=20, regParam=0.05, elasticNetParam=0.3, labelCol=\"label\",featuresCol=\"features\")  \n",
    "p = Pipeline(stages=[featurizer, lr])\n",
    "model = p.fit(trainDF)    # train_images_df is a dataset of images and labels"
   ]
  },
  {
   "cell_type": "code",
   "execution_count": 6,
   "metadata": {},
   "outputs": [],
   "source": [
    "#lrmodel=model\n",
    "#lrmodel.stages[1].write().overwrite().save('lr')"
   ]
  },
  {
   "cell_type": "code",
   "execution_count": 7,
   "metadata": {},
   "outputs": [
    {
     "name": "stdout",
     "output_type": "stream",
     "text": [
      "Training set accuracy = 0.8\n",
      "F1-Score  0.7809523809523808\n",
      "Precision  0.8500000000000001\n",
      "Recall  0.8\n"
     ]
    }
   ],
   "source": [
    "# Inspect training error\n",
    "df = model.transform(testDF)\n",
    "predictionAndLabels = df.select(\"prediction\", \"label\")\n",
    "evaluator = MulticlassClassificationEvaluator(metricName=\"accuracy\")\n",
    "print(\"Training set accuracy = \" + str(evaluator.evaluate(predictionAndLabels)))\n",
    "print('F1-Score ', evaluator.evaluate(predictionAndLabels,{evaluator.metricName:'f1'}))\n",
    "print('Precision ', evaluator.evaluate(predictionAndLabels,{evaluator.metricName:'weightedPrecision'}))\n",
    "print('Recall ', evaluator.evaluate(predictionAndLabels,{evaluator.metricName:'weightedRecall'}))"
   ]
  },
  {
   "cell_type": "code",
   "execution_count": 9,
   "metadata": {},
   "outputs": [],
   "source": [
    "import matplotlib.pyplot as plt\n",
    "import numpy as np\n",
    "import itertools\n",
    "def plot_confusion_matrix(cm, classes,normalize=False,title='Confusion matrix',cmap=plt.cm.GnBu):\n",
    "    plt.imshow(cm, interpolation='nearest', cmap=cmap)\n",
    "    plt.title(title)\n",
    "    tick_marks = np.arange(len(classes))\n",
    "    plt.xticks(tick_marks, classes, rotation=45)\n",
    "    plt.yticks(tick_marks, classes)\n",
    "    fmt = '.2f' if normalize else 'd'\n",
    "    thresh = cm.max() / 2.\n",
    "    for i, j in itertools.product(range(cm.shape[0]), range(cm.shape[1])):\n",
    "        plt.text(j, i, format(cm[i, j], fmt),horizontalalignment=\"center\",color=\"white\" if cm[i, j] > thresh else \"black\")\n",
    "    plt.tight_layout()\n",
    "    plt.ylabel('True label')\n",
    "    plt.xlabel('Predicted label')"
   ]
  },
  {
   "cell_type": "code",
   "execution_count": 13,
   "metadata": {},
   "outputs": [],
   "source": [
    "from sklearn.metrics import confusion_matrix\n",
    "y_true = df.select(\"label\")\n",
    "y_true = y_true.toPandas()\n",
    "y_pred = df.select(\"prediction\")\n",
    "y_pred = y_pred.toPandas()\n",
    "cnf_matrix = confusion_matrix(y_true, y_pred,labels=range(2))"
   ]
  },
  {
   "cell_type": "code",
   "execution_count": 15,
   "metadata": {},
   "outputs": [
    {
     "data": {
      "image/png": "[encoded data removed]",
      "text/plain": [
       "<Figure size 216x216 with 1 Axes>"
      ]
     },
     "metadata": {},
     "output_type": "display_data"
    }
   ],
   "source": [
    "import seaborn as sns\n",
    "%matplotlib inline\n",
    "sns.set_style(\"darkgrid\")\n",
    "plt.figure(figsize=(3,3)) #FIGSIZE(7,7)\n",
    "plt.grid(False)\n",
    "# call pre defined function\n",
    "plot_confusion_matrix(cnf_matrix, classes=range(2))"
   ]
  },
  {
   "cell_type": "code",
   "execution_count": 17,
   "metadata": {},
   "outputs": [
    {
     "name": "stdout",
     "output_type": "stream",
     "text": [
      "              precision    recall  f1-score   support\n",
      "\n",
      "     Class 0       0.75      1.00      0.86         3\n",
      "     Class 1       1.00      0.50      0.67         2\n",
      "\n",
      "   micro avg       0.80      0.80      0.80         5\n",
      "   macro avg       0.88      0.75      0.76         5\n",
      "weighted avg       0.85      0.80      0.78         5\n",
      "\n"
     ]
    }
   ],
   "source": [
    "from sklearn.metrics import classification_report\n",
    "target_names = [\"Class {}\".format(i) for i in range(2)] #range(10)\n",
    "print(classification_report(y_true, y_pred, target_names = target_names))"
   ]
  },
  {
   "cell_type": "code",
   "execution_count": 18,
   "metadata": {},
   "outputs": [
    {
     "name": "stdout",
     "output_type": "stream",
     "text": [
      "ROC AUC score: 0.75\n"
     ]
    }
   ],
   "source": [
    "from sklearn.metrics import roc_curve, auc, roc_auc_score\n",
    "from sklearn.preprocessing import LabelBinarizer\n",
    "def multiclass_roc_auc_score(y_test, y_pred, average=\"macro\"):\n",
    "    lb = LabelBinarizer()\n",
    "    lb.fit(y_test)\n",
    "    y_test = lb.transform(y_test)\n",
    "    y_pred = lb.transform(y_pred)\n",
    "    return roc_auc_score(y_test, y_pred, average=average)\n",
    "print('ROC AUC score:', multiclass_roc_auc_score(y_true,y_pred))"
   ]
  },
  {
   "cell_type": "code",
   "execution_count": 21,
   "metadata": {},
   "outputs": [
    {
     "name": "stdout",
     "output_type": "stream",
     "text": [
      "['image', 'label', 'features', 'rawPrediction', 'probability', 'prediction']\n",
      "+--------------------+----------+-----+\n",
      "|               image|prediction|label|\n",
      "+--------------------+----------+-----+\n",
      "|[hdfs://Namenode:...|       0.0|    0|\n",
      "|[hdfs://Namenode:...|       0.0|    0|\n",
      "|[hdfs://Namenode:...|       0.0|    0|\n",
      "|[hdfs://Namenode:...|       0.0|    1|\n",
      "|[hdfs://Namenode:...|       1.0|    1|\n",
      "+--------------------+----------+-----+\n",
      "\n"
     ]
    }
   ],
   "source": [
    "print(df.columns)\n",
    "# see some predicted output\n",
    "df.select('image', \"prediction\", \"label\").show()"
   ]
  },
  {
   "cell_type": "code",
   "execution_count": 28,
   "metadata": {},
   "outputs": [],
   "source": [
    "from pyspark.ml.classification import DecisionTreeClassifier\n",
    "from pyspark.ml import Pipeline\n",
    "vectorizer = dl.DeepImageFeaturizer(inputCol=\"image\", outputCol=\"features\", modelName='InceptionV3')\n",
    "\n",
    "dt = DecisionTreeClassifier(labelCol = \"label\", featuresCol=\"features\", maxDepth = 3)\n",
    "\n",
    "dt_pipeline = Pipeline(stages=[vectorizer, dt])\n",
    "\n",
    "dt_model = dt_pipeline.fit(trainDF)"
   ]
  },
  {
   "cell_type": "code",
   "execution_count": 29,
   "metadata": {},
   "outputs": [
    {
     "name": "stdout",
     "output_type": "stream",
     "text": [
      "Training set accuracy = 0.5714285714285714\n"
     ]
    }
   ],
   "source": [
    "# Inspect training error\n",
    "df = dt_model.transform(testDF)\n",
    "predictionAndLabels = df.select(\"prediction\", \"label\")\n",
    "evaluator = MulticlassClassificationEvaluator(metricName=\"accuracy\")\n",
    "print(\"Training set accuracy = \" + str(evaluator.evaluate(predictionAndLabels)))"
   ]
  },
  {
   "cell_type": "code",
   "execution_count": 30,
   "metadata": {},
   "outputs": [],
   "source": [
    "from pyspark.ml.classification import RandomForestClassifier\n",
    "\n",
    "from pyspark.ml import Pipeline\n",
    "## Xception InceptionV3\n",
    "vectorizer = dl.DeepImageFeaturizer(inputCol=\"image\", outputCol=\"features\", modelName='InceptionV3')\n",
    "rf = RandomForestClassifier(labelCol = \"label\", featuresCol=\"features\")\n",
    "rf_pipeline = Pipeline(stages=[vectorizer, rf])\n",
    "rfmodel = rf_pipeline.fit(trainDF)"
   ]
  },
  {
   "cell_type": "code",
   "execution_count": 31,
   "metadata": {},
   "outputs": [
    {
     "name": "stdout",
     "output_type": "stream",
     "text": [
      "Training set accuracy = 0.7142857142857143\n"
     ]
    }
   ],
   "source": [
    "# Inspect training error\n",
    "df = rfmodel.transform(testDF)\n",
    "predictionAndLabels = df.select(\"prediction\", \"label\")\n",
    "evaluator = MulticlassClassificationEvaluator(metricName=\"accuracy\")\n",
    "print(\"Training set accuracy = \" + str(evaluator.evaluate(predictionAndLabels)))"
   ]
  },
  {
   "cell_type": "code",
   "execution_count": 32,
   "metadata": {},
   "outputs": [],
   "source": [
    "from pyspark.ml.classification import GBTClassifier\n",
    "\n",
    "from pyspark.ml import Pipeline\n",
    "## Xception InceptionV3\n",
    "vectorizer = dl.DeepImageFeaturizer(inputCol=\"image\", outputCol=\"features\", modelName='InceptionV3')\n",
    "gbt = GBTClassifier(maxIter=10)\n",
    "gbt_pipeline = Pipeline(stages=[vectorizer, gbt])\n",
    "gbt_model = gbt_pipeline.fit(trainDF)\n"
   ]
  },
  {
   "cell_type": "code",
   "execution_count": 38,
   "metadata": {},
   "outputs": [
    {
     "name": "stdout",
     "output_type": "stream",
     "text": [
      "Training set accuracy = 0.5714285714285714\n",
      "F1-Score  0.5714285714285715\n",
      "Precision  0.8285714285714286\n",
      "Recall  0.5714285714285714\n"
     ]
    }
   ],
   "source": [
    "# Inspect training error\n",
    "df = gbt_model.transform(testDF)\n",
    "predictionAndLabels = df.select(\"prediction\", \"label\")\n",
    "evaluator = MulticlassClassificationEvaluator(metricName=\"accuracy\")\n",
    "print(\"Training set accuracy = \" + str(evaluator.evaluate(predictionAndLabels)))\n",
    "print('F1-Score ', evaluator.evaluate(predictionAndLabels,{evaluator.metricName:'f1'}))\n",
    "print('Precision ', evaluator.evaluate(predictionAndLabels,{evaluator.metricName:'weightedPrecision'}))\n",
    "print('Recall ', evaluator.evaluate(predictionAndLabels,{evaluator.metricName:'weightedRecall'}))"
   ]
  },
  {
   "cell_type": "code",
   "execution_count": 37,
   "metadata": {},
   "outputs": [
    {
     "name": "stdout",
     "output_type": "stream",
     "text": [
      "accuracy: 70.0%\n"
     ]
    }
   ],
   "source": [
    "prediction= predictionAndLabels\n",
    "from pyspark.ml.evaluation import BinaryClassificationEvaluator\n",
    "binaryevaluator = BinaryClassificationEvaluator(rawPredictionCol=\"prediction\")\n",
    "binary_rate = binaryevaluator.evaluate(prediction)*100\n",
    "print(\"accuracy: {}%\" .format(binary_rate))"
   ]
  }
 ],
 "metadata": {
  "kernelspec": {
   "display_name": "Python 3",
   "language": "python",
   "name": "python3"
  },
  "language_info": {
   "codemirror_mode": {
    "name": "ipython",
    "version": 3
   },
   "file_extension": ".py",
   "mimetype": "text/x-python",
   "name": "python",
   "nbconvert_exporter": "python",
   "pygments_lexer": "ipython3",
   "version": "3.7.3"
  }
 },
 "nbformat": 4,
 "nbformat_minor": 2
}
